{
 "cells": [
  {
   "cell_type": "code",
   "execution_count": 5,
   "metadata": {},
   "outputs": [],
   "source": [
    "library(tidyverse)\n",
    "library(lubridate)\n",
    "library(ggplot2)\n",
    "library(ggthemes)"
   ]
  },
  {
   "cell_type": "code",
   "execution_count": 6,
   "metadata": {},
   "outputs": [],
   "source": [
    "data <- read.csv(\"cyclistic_clean.csv\")"
   ]
  },
  {
   "cell_type": "code",
   "execution_count": 7,
   "metadata": {},
   "outputs": [],
   "source": [
    "            # started_at, ended_at from factor to date/time\n",
    "data <- mutate(data, started_at = ymd_hms(as.character(started_at)))\n",
    "\n",
    "data <- mutate(data, ended_at = ymd_hms(as.character(ended_at)))\n",
    "\n",
    "            # rideid, rideable type from factor to character\n",
    "data <- mutate(data, ride_id = as.character(ride_id))\n",
    "\n",
    "data <- mutate(data, rideable_type = as.character(rideable_type))"
   ]
  },
  {
   "cell_type": "code",
   "execution_count": 8,
   "metadata": {},
   "outputs": [
    {
     "name": "stdout",
     "output_type": "stream",
     "text": [
      "'data.frame':\t3473383 obs. of  10 variables:\n",
      " $ ride_id           : chr  \"A847FADBBC638E45\" \"5405B80E996FF60D\" \"5DD24A79A4E006F4\" \"2A59BBDF5CDBA725\" ...\n",
      " $ rideable_type     : chr  \"docked_bike\" \"docked_bike\" \"docked_bike\" \"docked_bike\" ...\n",
      " $ started_at        : POSIXct, format: \"2020-04-26 17:45:14\" \"2020-04-17 17:08:54\" ...\n",
      " $ ended_at          : POSIXct, format: \"2020-04-26 18:12:03\" \"2020-04-17 17:17:03\" ...\n",
      " $ start_station_name: Factor w/ 709 levels \"\",\"2112 W Peterson Ave\",..: 236 227 429 80 534 445 615 483 382 339 ...\n",
      " $ start_station_id  : int  86 503 142 216 125 173 35 434 627 377 ...\n",
      " $ end_station_name  : Factor w/ 707 levels \"\",\"2112 W Peterson Ave\",..: 402 355 325 697 557 613 258 675 376 113 ...\n",
      " $ end_station_id    : int  152 499 255 657 323 35 635 382 359 508 ...\n",
      " $ member_casual     : Factor w/ 2 levels \"casual\",\"member\": 2 2 2 2 1 2 2 1 1 2 ...\n",
      " $ trip_duration_mins: num  26.8 8.2 14.4 12.2 52.9 5.4 5.2 75.8 5.7 17.3 ...\n"
     ]
    }
   ],
   "source": [
    "str(data)"
   ]
  },
  {
   "cell_type": "code",
   "execution_count": 9,
   "metadata": {},
   "outputs": [
    {
     "data": {
      "text/html": [
       "<table class=\"dataframe\">\n",
       "<caption>A data.frame: 6 × 10</caption>\n",
       "<thead>\n",
       "\t<tr><th></th><th scope=col>ride_id</th><th scope=col>rideable_type</th><th scope=col>started_at</th><th scope=col>ended_at</th><th scope=col>start_station_name</th><th scope=col>start_station_id</th><th scope=col>end_station_name</th><th scope=col>end_station_id</th><th scope=col>member_casual</th><th scope=col>trip_duration_mins</th></tr>\n",
       "\t<tr><th></th><th scope=col>&lt;chr&gt;</th><th scope=col>&lt;chr&gt;</th><th scope=col>&lt;dttm&gt;</th><th scope=col>&lt;dttm&gt;</th><th scope=col>&lt;fct&gt;</th><th scope=col>&lt;int&gt;</th><th scope=col>&lt;fct&gt;</th><th scope=col>&lt;int&gt;</th><th scope=col>&lt;fct&gt;</th><th scope=col>&lt;dbl&gt;</th></tr>\n",
       "</thead>\n",
       "<tbody>\n",
       "\t<tr><th scope=row>1</th><td>A847FADBBC638E45</td><td>docked_bike</td><td>2020-04-26 17:45:14</td><td>2020-04-26 18:12:03</td><td><span style=white-space:pre-wrap>Eckhart Park                       </span></td><td> 86</td><td>Lincoln Ave &amp; Diversey Pkwy</td><td>152</td><td>member</td><td>26.8</td></tr>\n",
       "\t<tr><th scope=row>2</th><td>5405B80E996FF60D</td><td>docked_bike</td><td>2020-04-17 17:08:54</td><td>2020-04-17 17:17:03</td><td><span style=white-space:pre-wrap>Drake Ave &amp; Fullerton Ave          </span></td><td>503</td><td><span style=white-space:pre-wrap>Kosciuszko Park            </span></td><td>499</td><td>member</td><td> 8.2</td></tr>\n",
       "\t<tr><th scope=row>3</th><td>5DD24A79A4E006F4</td><td>docked_bike</td><td>2020-04-01 17:54:13</td><td>2020-04-01 18:08:36</td><td><span style=white-space:pre-wrap>McClurg Ct &amp; Erie St               </span></td><td>142</td><td>Indiana Ave &amp; Roosevelt Rd </td><td>255</td><td>member</td><td>14.4</td></tr>\n",
       "\t<tr><th scope=row>4</th><td>2A59BBDF5CDBA725</td><td>docked_bike</td><td>2020-04-07 12:50:19</td><td>2020-04-07 13:02:31</td><td><span style=white-space:pre-wrap>California Ave &amp; Division St       </span></td><td>216</td><td><span style=white-space:pre-wrap>Wood St &amp; Augusta Blvd     </span></td><td>657</td><td>member</td><td>12.2</td></tr>\n",
       "\t<tr><th scope=row>5</th><td>27AD306C119C6158</td><td>docked_bike</td><td>2020-04-18 10:22:59</td><td>2020-04-18 11:15:54</td><td><span style=white-space:pre-wrap>Rush St &amp; Hubbard St               </span></td><td>125</td><td>Sheridan Rd &amp; Lawrence Ave </td><td>323</td><td>casual</td><td>52.9</td></tr>\n",
       "\t<tr><th scope=row>6</th><td>356216E875132F61</td><td>docked_bike</td><td>2020-04-30 17:55:47</td><td>2020-04-30 18:01:11</td><td>Mies van der Rohe Way &amp; Chicago Ave</td><td>173</td><td><span style=white-space:pre-wrap>Streeter Dr &amp; Grand Ave    </span></td><td> 35</td><td>member</td><td> 5.4</td></tr>\n",
       "</tbody>\n",
       "</table>\n"
      ],
      "text/latex": [
       "A data.frame: 6 × 10\n",
       "\\begin{tabular}{r|llllllllll}\n",
       "  & ride\\_id & rideable\\_type & started\\_at & ended\\_at & start\\_station\\_name & start\\_station\\_id & end\\_station\\_name & end\\_station\\_id & member\\_casual & trip\\_duration\\_mins\\\\\n",
       "  & <chr> & <chr> & <dttm> & <dttm> & <fct> & <int> & <fct> & <int> & <fct> & <dbl>\\\\\n",
       "\\hline\n",
       "\t1 & A847FADBBC638E45 & docked\\_bike & 2020-04-26 17:45:14 & 2020-04-26 18:12:03 & Eckhart Park                        &  86 & Lincoln Ave \\& Diversey Pkwy & 152 & member & 26.8\\\\\n",
       "\t2 & 5405B80E996FF60D & docked\\_bike & 2020-04-17 17:08:54 & 2020-04-17 17:17:03 & Drake Ave \\& Fullerton Ave           & 503 & Kosciuszko Park             & 499 & member &  8.2\\\\\n",
       "\t3 & 5DD24A79A4E006F4 & docked\\_bike & 2020-04-01 17:54:13 & 2020-04-01 18:08:36 & McClurg Ct \\& Erie St                & 142 & Indiana Ave \\& Roosevelt Rd  & 255 & member & 14.4\\\\\n",
       "\t4 & 2A59BBDF5CDBA725 & docked\\_bike & 2020-04-07 12:50:19 & 2020-04-07 13:02:31 & California Ave \\& Division St        & 216 & Wood St \\& Augusta Blvd      & 657 & member & 12.2\\\\\n",
       "\t5 & 27AD306C119C6158 & docked\\_bike & 2020-04-18 10:22:59 & 2020-04-18 11:15:54 & Rush St \\& Hubbard St                & 125 & Sheridan Rd \\& Lawrence Ave  & 323 & casual & 52.9\\\\\n",
       "\t6 & 356216E875132F61 & docked\\_bike & 2020-04-30 17:55:47 & 2020-04-30 18:01:11 & Mies van der Rohe Way \\& Chicago Ave & 173 & Streeter Dr \\& Grand Ave     &  35 & member &  5.4\\\\\n",
       "\\end{tabular}\n"
      ],
      "text/markdown": [
       "\n",
       "A data.frame: 6 × 10\n",
       "\n",
       "| <!--/--> | ride_id &lt;chr&gt; | rideable_type &lt;chr&gt; | started_at &lt;dttm&gt; | ended_at &lt;dttm&gt; | start_station_name &lt;fct&gt; | start_station_id &lt;int&gt; | end_station_name &lt;fct&gt; | end_station_id &lt;int&gt; | member_casual &lt;fct&gt; | trip_duration_mins &lt;dbl&gt; |\n",
       "|---|---|---|---|---|---|---|---|---|---|---|\n",
       "| 1 | A847FADBBC638E45 | docked_bike | 2020-04-26 17:45:14 | 2020-04-26 18:12:03 | Eckhart Park                        |  86 | Lincoln Ave &amp; Diversey Pkwy | 152 | member | 26.8 |\n",
       "| 2 | 5405B80E996FF60D | docked_bike | 2020-04-17 17:08:54 | 2020-04-17 17:17:03 | Drake Ave &amp; Fullerton Ave           | 503 | Kosciuszko Park             | 499 | member |  8.2 |\n",
       "| 3 | 5DD24A79A4E006F4 | docked_bike | 2020-04-01 17:54:13 | 2020-04-01 18:08:36 | McClurg Ct &amp; Erie St                | 142 | Indiana Ave &amp; Roosevelt Rd  | 255 | member | 14.4 |\n",
       "| 4 | 2A59BBDF5CDBA725 | docked_bike | 2020-04-07 12:50:19 | 2020-04-07 13:02:31 | California Ave &amp; Division St        | 216 | Wood St &amp; Augusta Blvd      | 657 | member | 12.2 |\n",
       "| 5 | 27AD306C119C6158 | docked_bike | 2020-04-18 10:22:59 | 2020-04-18 11:15:54 | Rush St &amp; Hubbard St                | 125 | Sheridan Rd &amp; Lawrence Ave  | 323 | casual | 52.9 |\n",
       "| 6 | 356216E875132F61 | docked_bike | 2020-04-30 17:55:47 | 2020-04-30 18:01:11 | Mies van der Rohe Way &amp; Chicago Ave | 173 | Streeter Dr &amp; Grand Ave     |  35 | member |  5.4 |\n",
       "\n"
      ],
      "text/plain": [
       "  ride_id          rideable_type started_at          ended_at           \n",
       "1 A847FADBBC638E45 docked_bike   2020-04-26 17:45:14 2020-04-26 18:12:03\n",
       "2 5405B80E996FF60D docked_bike   2020-04-17 17:08:54 2020-04-17 17:17:03\n",
       "3 5DD24A79A4E006F4 docked_bike   2020-04-01 17:54:13 2020-04-01 18:08:36\n",
       "4 2A59BBDF5CDBA725 docked_bike   2020-04-07 12:50:19 2020-04-07 13:02:31\n",
       "5 27AD306C119C6158 docked_bike   2020-04-18 10:22:59 2020-04-18 11:15:54\n",
       "6 356216E875132F61 docked_bike   2020-04-30 17:55:47 2020-04-30 18:01:11\n",
       "  start_station_name                  start_station_id\n",
       "1 Eckhart Park                         86             \n",
       "2 Drake Ave & Fullerton Ave           503             \n",
       "3 McClurg Ct & Erie St                142             \n",
       "4 California Ave & Division St        216             \n",
       "5 Rush St & Hubbard St                125             \n",
       "6 Mies van der Rohe Way & Chicago Ave 173             \n",
       "  end_station_name            end_station_id member_casual trip_duration_mins\n",
       "1 Lincoln Ave & Diversey Pkwy 152            member        26.8              \n",
       "2 Kosciuszko Park             499            member         8.2              \n",
       "3 Indiana Ave & Roosevelt Rd  255            member        14.4              \n",
       "4 Wood St & Augusta Blvd      657            member        12.2              \n",
       "5 Sheridan Rd & Lawrence Ave  323            casual        52.9              \n",
       "6 Streeter Dr & Grand Ave      35            member         5.4              "
      ]
     },
     "metadata": {},
     "output_type": "display_data"
    }
   ],
   "source": [
    "head(data)"
   ]
  },
  {
   "cell_type": "code",
   "execution_count": 10,
   "metadata": {},
   "outputs": [
    {
     "data": {
      "text/html": [
       "<style>\n",
       ".list-inline {list-style: none; margin:0; padding: 0}\n",
       ".list-inline>li {display: inline-block}\n",
       ".list-inline>li:not(:last-child)::after {content: \"\\00b7\"; padding: 0 .5ex}\n",
       "</style>\n",
       "<ol class=list-inline><li>'ride_id'</li><li>'rideable_type'</li><li>'started_at'</li><li>'ended_at'</li><li>'start_station_name'</li><li>'start_station_id'</li><li>'end_station_name'</li><li>'end_station_id'</li><li>'member_casual'</li><li>'trip_duration_mins'</li></ol>\n"
      ],
      "text/latex": [
       "\\begin{enumerate*}\n",
       "\\item 'ride\\_id'\n",
       "\\item 'rideable\\_type'\n",
       "\\item 'started\\_at'\n",
       "\\item 'ended\\_at'\n",
       "\\item 'start\\_station\\_name'\n",
       "\\item 'start\\_station\\_id'\n",
       "\\item 'end\\_station\\_name'\n",
       "\\item 'end\\_station\\_id'\n",
       "\\item 'member\\_casual'\n",
       "\\item 'trip\\_duration\\_mins'\n",
       "\\end{enumerate*}\n"
      ],
      "text/markdown": [
       "1. 'ride_id'\n",
       "2. 'rideable_type'\n",
       "3. 'started_at'\n",
       "4. 'ended_at'\n",
       "5. 'start_station_name'\n",
       "6. 'start_station_id'\n",
       "7. 'end_station_name'\n",
       "8. 'end_station_id'\n",
       "9. 'member_casual'\n",
       "10. 'trip_duration_mins'\n",
       "\n",
       "\n"
      ],
      "text/plain": [
       " [1] \"ride_id\"            \"rideable_type\"      \"started_at\"        \n",
       " [4] \"ended_at\"           \"start_station_name\" \"start_station_id\"  \n",
       " [7] \"end_station_name\"   \"end_station_id\"     \"member_casual\"     \n",
       "[10] \"trip_duration_mins\""
      ]
     },
     "metadata": {},
     "output_type": "display_data"
    }
   ],
   "source": [
    "colnames(data)"
   ]
  },
  {
   "cell_type": "code",
   "execution_count": 11,
   "metadata": {},
   "outputs": [
    {
     "data": {
      "text/plain": [
       "   ride_id          rideable_type        started_at                 \n",
       " Length:3473383     Length:3473383     Min.   :2020-04-01 00:00:30  \n",
       " Class :character   Class :character   1st Qu.:2020-07-14 18:35:04  \n",
       " Mode  :character   Mode  :character   Median :2020-08-29 14:35:44  \n",
       "                                       Mean   :2020-09-10 01:36:04  \n",
       "                                       3rd Qu.:2020-10-20 21:07:12  \n",
       "                                       Max.   :2021-03-31 23:59:08  \n",
       "                                                                    \n",
       "    ended_at                                    start_station_name \n",
       " Min.   :2020-04-01 00:10:45                             : 122109  \n",
       " 1st Qu.:2020-07-14 19:05:03   Streeter Dr & Grand Ave   :  35212  \n",
       " Median :2020-08-29 15:08:19   Clark St & Elm St         :  32278  \n",
       " Mean   :2020-09-10 02:04:03   Lake Shore Dr & Monroe St :  29769  \n",
       " 3rd Qu.:2020-10-20 21:29:54   Theater on the Lake       :  29570  \n",
       " Max.   :2021-04-06 11:00:11   Lake Shore Dr & North Blvd:  26959  \n",
       "                               (Other)                   :3197486  \n",
       " start_station_id                   end_station_name   end_station_id \n",
       " Min.   :  1.0                              : 142990   Min.   :  1.0  \n",
       " 1st Qu.: 94.0    Streeter Dr & Grand Ave   :  37284   1st Qu.: 94.0  \n",
       " Median :199.0    Clark St & Elm St         :  32078   Median :199.0  \n",
       " Mean   :239.3    Theater on the Lake       :  31102   Mean   :238.8  \n",
       " 3rd Qu.:332.0    Lake Shore Dr & Monroe St :  29169   3rd Qu.:332.0  \n",
       " Max.   :732.0    Lake Shore Dr & North Blvd:  27478   Max.   :732.0  \n",
       " NA's   :83562    (Other)                   :3173282   NA's   :97938  \n",
       " member_casual    trip_duration_mins\n",
       " casual:1424808   Min.   :    0.1   \n",
       " member:2048575   1st Qu.:    8.0   \n",
       "                  Median :   14.6   \n",
       "                  Mean   :   28.0   \n",
       "                  3rd Qu.:   26.7   \n",
       "                  Max.   :58720.0   \n",
       "                                    "
      ]
     },
     "metadata": {},
     "output_type": "display_data"
    }
   ],
   "source": [
    "summary(data)"
   ]
  },
  {
   "cell_type": "code",
   "execution_count": 12,
   "metadata": {},
   "outputs": [
    {
     "data": {
      "text/html": [
       "<table class=\"dataframe\">\n",
       "<caption>A tibble: 2 × 2</caption>\n",
       "<thead>\n",
       "\t<tr><th scope=col>member_casual</th><th scope=col>count</th></tr>\n",
       "\t<tr><th scope=col>&lt;fct&gt;</th><th scope=col>&lt;int&gt;</th></tr>\n",
       "</thead>\n",
       "<tbody>\n",
       "\t<tr><td>casual</td><td>4311</td></tr>\n",
       "\t<tr><td>member</td><td> 620</td></tr>\n",
       "</tbody>\n",
       "</table>\n"
      ],
      "text/latex": [
       "A tibble: 2 × 2\n",
       "\\begin{tabular}{ll}\n",
       " member\\_casual & count\\\\\n",
       " <fct> & <int>\\\\\n",
       "\\hline\n",
       "\t casual & 4311\\\\\n",
       "\t member &  620\\\\\n",
       "\\end{tabular}\n"
      ],
      "text/markdown": [
       "\n",
       "A tibble: 2 × 2\n",
       "\n",
       "| member_casual &lt;fct&gt; | count &lt;int&gt; |\n",
       "|---|---|\n",
       "| casual | 4311 |\n",
       "| member |  620 |\n",
       "\n"
      ],
      "text/plain": [
       "  member_casual count\n",
       "1 casual        4311 \n",
       "2 member         620 "
      ]
     },
     "metadata": {},
     "output_type": "display_data"
    }
   ],
   "source": [
    "data %>% filter(trip_duration_mins > 960) %>% \n",
    "            group_by(member_casual) %>% \n",
    "            summarize(count = n())"
   ]
  },
  {
   "cell_type": "code",
   "execution_count": 13,
   "metadata": {},
   "outputs": [
    {
     "name": "stdout",
     "output_type": "stream",
     "text": [
      "[1] \"All Riders\"\n"
     ]
    },
    {
     "data": {
      "text/html": [
       "<style>\n",
       ".dl-inline {width: auto; margin:0; padding: 0}\n",
       ".dl-inline>dt, .dl-inline>dd {float: none; width: auto; display: inline-block}\n",
       ".dl-inline>dt::after {content: \":\\0020\"; padding-right: .5ex}\n",
       ".dl-inline>dt:not(:first-of-type) {padding-left: .5ex}\n",
       "</style><dl class=dl-inline><dt>0%</dt><dd>0.1</dd><dt>25%</dt><dd>8</dd><dt>50%</dt><dd>14.6</dd><dt>75%</dt><dd>26.7</dd><dt>100%</dt><dd>58720</dd></dl>\n"
      ],
      "text/latex": [
       "\\begin{description*}\n",
       "\\item[0\\textbackslash{}\\%] 0.1\n",
       "\\item[25\\textbackslash{}\\%] 8\n",
       "\\item[50\\textbackslash{}\\%] 14.6\n",
       "\\item[75\\textbackslash{}\\%] 26.7\n",
       "\\item[100\\textbackslash{}\\%] 58720\n",
       "\\end{description*}\n"
      ],
      "text/markdown": [
       "0%\n",
       ":   0.125%\n",
       ":   850%\n",
       ":   14.675%\n",
       ":   26.7100%\n",
       ":   58720\n",
       "\n"
      ],
      "text/plain": [
       "     0%     25%     50%     75%    100% \n",
       "    0.1     8.0    14.6    26.7 58720.0 "
      ]
     },
     "metadata": {},
     "output_type": "display_data"
    },
    {
     "name": "stdout",
     "output_type": "stream",
     "text": [
      "[1] \"Casual Riders\"\n"
     ]
    },
    {
     "data": {
      "text/html": [
       "<style>\n",
       ".dl-inline {width: auto; margin:0; padding: 0}\n",
       ".dl-inline>dt, .dl-inline>dd {float: none; width: auto; display: inline-block}\n",
       ".dl-inline>dt::after {content: \":\\0020\"; padding-right: .5ex}\n",
       ".dl-inline>dt:not(:first-of-type) {padding-left: .5ex}\n",
       "</style><dl class=dl-inline><dt>0%</dt><dd>0.1</dd><dt>25%</dt><dd>11.6</dd><dt>50%</dt><dd>21.2</dd><dt>75%</dt><dd>40.3</dd><dt>100%</dt><dd>55683.9</dd></dl>\n"
      ],
      "text/latex": [
       "\\begin{description*}\n",
       "\\item[0\\textbackslash{}\\%] 0.1\n",
       "\\item[25\\textbackslash{}\\%] 11.6\n",
       "\\item[50\\textbackslash{}\\%] 21.2\n",
       "\\item[75\\textbackslash{}\\%] 40.3\n",
       "\\item[100\\textbackslash{}\\%] 55683.9\n",
       "\\end{description*}\n"
      ],
      "text/markdown": [
       "0%\n",
       ":   0.125%\n",
       ":   11.650%\n",
       ":   21.275%\n",
       ":   40.3100%\n",
       ":   55683.9\n",
       "\n"
      ],
      "text/plain": [
       "     0%     25%     50%     75%    100% \n",
       "    0.1    11.6    21.2    40.3 55683.9 "
      ]
     },
     "metadata": {},
     "output_type": "display_data"
    },
    {
     "name": "stdout",
     "output_type": "stream",
     "text": [
      "[1] \"Member Riders\"\n"
     ]
    },
    {
     "data": {
      "text/html": [
       "<style>\n",
       ".dl-inline {width: auto; margin:0; padding: 0}\n",
       ".dl-inline>dt, .dl-inline>dd {float: none; width: auto; display: inline-block}\n",
       ".dl-inline>dt::after {content: \":\\0020\"; padding-right: .5ex}\n",
       ".dl-inline>dt:not(:first-of-type) {padding-left: .5ex}\n",
       "</style><dl class=dl-inline><dt>0%</dt><dd>0.1</dd><dt>25%</dt><dd>6.5</dd><dt>50%</dt><dd>11.5</dd><dt>75%</dt><dd>20.1</dd><dt>100%</dt><dd>58720</dd></dl>\n"
      ],
      "text/latex": [
       "\\begin{description*}\n",
       "\\item[0\\textbackslash{}\\%] 0.1\n",
       "\\item[25\\textbackslash{}\\%] 6.5\n",
       "\\item[50\\textbackslash{}\\%] 11.5\n",
       "\\item[75\\textbackslash{}\\%] 20.1\n",
       "\\item[100\\textbackslash{}\\%] 58720\n",
       "\\end{description*}\n"
      ],
      "text/markdown": [
       "0%\n",
       ":   0.125%\n",
       ":   6.550%\n",
       ":   11.575%\n",
       ":   20.1100%\n",
       ":   58720\n",
       "\n"
      ],
      "text/plain": [
       "     0%     25%     50%     75%    100% \n",
       "    0.1     6.5    11.5    20.1 58720.0 "
      ]
     },
     "metadata": {},
     "output_type": "display_data"
    }
   ],
   "source": [
    "print(\"All Riders\")\n",
    "quantile(data$trip_duration_mins)\n",
    "print(\"Casual Riders\")\n",
    "quantile(data$trip_duration_mins[data$member_casual == \"casual\"])\n",
    "print(\"Member Riders\")\n",
    "quantile(data$trip_duration_mins[data$member_casual == \"member\"])"
   ]
  },
  {
   "cell_type": "code",
   "execution_count": 17,
   "metadata": {},
   "outputs": [
    {
     "data": {
      "image/png": "[encoded data removed]",
      "text/plain": [
       "plot without title"
      ]
     },
     "metadata": {
      "image/png": {
       "height": 420,
       "width": 420
      }
     },
     "output_type": "display_data"
    }
   ],
   "source": [
    "data %>% filter(trip_duration_mins < 100) %>% \n",
    "    ggplot(aes(x = trip_duration_mins)) +\n",
    "        geom_histogram(binwidth = 5, fill = \"firebrick1\") +\n",
    "        theme_economist() +\n",
    "        labs(title = \"Trips with a duration less than 100 minutes\")"
   ]
  },
  {
   "cell_type": "code",
   "execution_count": 20,
   "metadata": {},
   "outputs": [
    {
     "data": {
      "image/png": "[encoded data removed]",
      "text/plain": [
       "plot without title"
      ]
     },
     "metadata": {
      "image/png": {
       "height": 420,
       "width": 420
      }
     },
     "output_type": "display_data"
    }
   ],
   "source": [
    "data %>% filter(trip_duration_mins < 100) %>% \n",
    "  ggplot( aes(x= trip_duration_mins, fill= member_casual)) +\n",
    "    geom_histogram( binwidth = 5, color=\"#e9ecef\", alpha=0.8, position = 'identity') +\n",
    "    scale_fill_manual(values=c(\"firebrick1\", \"springgreen\")) +\n",
    "    theme_economist() +\n",
    "    labs(fill=\"\", title = \"Trips with a duration less than 100 minutes\")"
   ]
  },
  {
   "cell_type": "code",
   "execution_count": 120,
   "metadata": {},
   "outputs": [
    {
     "data": {
      "text/html": [
       "<table class=\"dataframe\">\n",
       "<caption>A tibble: 2 × 3</caption>\n",
       "<thead>\n",
       "\t<tr><th scope=col>member_casual</th><th scope=col>trips</th><th scope=col>mean_trip_duration</th></tr>\n",
       "\t<tr><th scope=col>&lt;fct&gt;</th><th scope=col>&lt;int&gt;</th><th scope=col>&lt;dbl&gt;</th></tr>\n",
       "</thead>\n",
       "<tbody>\n",
       "\t<tr><td>casual</td><td>1332754</td><td>26.3</td></tr>\n",
       "\t<tr><td>member</td><td>2041366</td><td>14.9</td></tr>\n",
       "</tbody>\n",
       "</table>\n"
      ],
      "text/latex": [
       "A tibble: 2 × 3\n",
       "\\begin{tabular}{lll}\n",
       " member\\_casual & trips & mean\\_trip\\_duration\\\\\n",
       " <fct> & <int> & <dbl>\\\\\n",
       "\\hline\n",
       "\t casual & 1332754 & 26.3\\\\\n",
       "\t member & 2041366 & 14.9\\\\\n",
       "\\end{tabular}\n"
      ],
      "text/markdown": [
       "\n",
       "A tibble: 2 × 3\n",
       "\n",
       "| member_casual &lt;fct&gt; | trips &lt;int&gt; | mean_trip_duration &lt;dbl&gt; |\n",
       "|---|---|---|\n",
       "| casual | 1332754 | 26.3 |\n",
       "| member | 2041366 | 14.9 |\n",
       "\n"
      ],
      "text/plain": [
       "  member_casual trips   mean_trip_duration\n",
       "1 casual        1332754 26.3              \n",
       "2 member        2041366 14.9              "
      ]
     },
     "metadata": {},
     "output_type": "display_data"
    }
   ],
   "source": [
    "data %>% \n",
    "  filter(trip_duration_mins < 100) %>% \n",
    "  group_by(member_casual) %>% \n",
    "  summarize(trips = n(),\n",
    "           mean_trip_duration = round(mean(trip_duration_mins), 1))"
   ]
  },
  {
   "cell_type": "code",
   "execution_count": 21,
   "metadata": {},
   "outputs": [
    {
     "data": {
      "image/png": "[encoded data removed]",
      "text/plain": [
       "plot without title"
      ]
     },
     "metadata": {
      "image/png": {
       "height": 420,
       "width": 420
      }
     },
     "output_type": "display_data"
    }
   ],
   "source": [
    "data %>% filter(trip_duration_mins < 30) %>% \n",
    "    ggplot(aes(x = trip_duration_mins)) +\n",
    "        geom_histogram(binwidth = 5, fill = \"firebrick1\") +\n",
    "        theme_economist() +\n",
    "        labs(title = \"Trips with a duration less than 30 minutes\")"
   ]
  },
  {
   "cell_type": "code",
   "execution_count": 22,
   "metadata": {
    "scrolled": false
   },
   "outputs": [
    {
     "data": {
      "image/png": "[encoded data removed]",
      "text/plain": [
       "plot without title"
      ]
     },
     "metadata": {
      "image/png": {
       "height": 420,
       "width": 420
      }
     },
     "output_type": "display_data"
    }
   ],
   "source": [
    "data %>% filter(trip_duration_mins < 30) %>% \n",
    "  ggplot( aes(x= trip_duration_mins, fill= member_casual)) +\n",
    "    geom_histogram( binwidth = 1, color=\"#e9ecef\", alpha=0.8, position = 'identity') +\n",
    "    scale_fill_manual(values=c(\"firebrick1\", \"springgreen\")) +\n",
    "    theme_economist() +\n",
    "    labs(fill=\"\", title = \"Trips with a duration less than 30 minutes\")"
   ]
  },
  {
   "cell_type": "code",
   "execution_count": 69,
   "metadata": {},
   "outputs": [
    {
     "data": {
      "text/html": [
       "<table class=\"dataframe\">\n",
       "<caption>A tibble: 2 × 3</caption>\n",
       "<thead>\n",
       "\t<tr><th scope=col>member_casual</th><th scope=col>trips</th><th scope=col>mean_trip_duration</th></tr>\n",
       "\t<tr><th scope=col>&lt;fct&gt;</th><th scope=col>&lt;int&gt;</th><th scope=col>&lt;dbl&gt;</th></tr>\n",
       "</thead>\n",
       "<tbody>\n",
       "\t<tr><td>casual</td><td> 930106</td><td>14.88291</td></tr>\n",
       "\t<tr><td>member</td><td>1820762</td><td>11.79117</td></tr>\n",
       "</tbody>\n",
       "</table>\n"
      ],
      "text/latex": [
       "A tibble: 2 × 3\n",
       "\\begin{tabular}{lll}\n",
       " member\\_casual & trips & mean\\_trip\\_duration\\\\\n",
       " <fct> & <int> & <dbl>\\\\\n",
       "\\hline\n",
       "\t casual &  930106 & 14.88291\\\\\n",
       "\t member & 1820762 & 11.79117\\\\\n",
       "\\end{tabular}\n"
      ],
      "text/markdown": [
       "\n",
       "A tibble: 2 × 3\n",
       "\n",
       "| member_casual &lt;fct&gt; | trips &lt;int&gt; | mean_trip_duration &lt;dbl&gt; |\n",
       "|---|---|---|\n",
       "| casual |  930106 | 14.88291 |\n",
       "| member | 1820762 | 11.79117 |\n",
       "\n"
      ],
      "text/plain": [
       "  member_casual trips   mean_trip_duration\n",
       "1 casual         930106 14.88291          \n",
       "2 member        1820762 11.79117          "
      ]
     },
     "metadata": {},
     "output_type": "display_data"
    }
   ],
   "source": [
    "data %>% \n",
    "  filter(trip_duration_mins < 30) %>% \n",
    "  group_by(member_casual) %>% \n",
    "  summarize(trips = n(),\n",
    "           mean_trip_duration = mean(trip_duration_mins))"
   ]
  },
  {
   "cell_type": "code",
   "execution_count": 23,
   "metadata": {},
   "outputs": [
    {
     "name": "stderr",
     "output_type": "stream",
     "text": [
      "`summarise()` has grouped output by 'day_of_week'. You can override using the `.groups` argument.\n",
      "\n"
     ]
    }
   ],
   "source": [
    "day_data <- data %>% \n",
    "    filter(trip_duration_mins < 100) %>% \n",
    "    select(trip_duration_mins, member_casual, started_at) %>% \n",
    "    mutate(day_of_week = wday(started_at, label = TRUE, abbr = TRUE, week_start = 7)) %>% \n",
    "    group_by(day_of_week, member_casual) %>%\n",
    "    summarize(trips = n(), \n",
    "             mean_trip_duration = mean(trip_duration_mins)) %>% \n",
    "    arrange(desc(trips))"
   ]
  },
  {
   "cell_type": "code",
   "execution_count": 24,
   "metadata": {},
   "outputs": [
    {
     "data": {
      "image/png": "[encoded data removed]",
      "text/plain": [
       "plot without title"
      ]
     },
     "metadata": {
      "image/png": {
       "height": 420,
       "width": 420
      }
     },
     "output_type": "display_data"
    }
   ],
   "source": [
    "day_data %>%\n",
    "  ggplot( aes(x= day_of_week, y = trips, fill= member_casual)) +\n",
    "    geom_col(color=\"#e9ecef\", alpha=0.8, position = 'identity') +\n",
    "    scale_fill_manual(values=c(\"firebrick1\", \"springgreen\")) +\n",
    "    theme_economist() +\n",
    "    labs(fill=\"\", title = \"Trips with a duration less than 100 minutes\")"
   ]
  },
  {
   "cell_type": "code",
   "execution_count": 28,
   "metadata": {},
   "outputs": [
    {
     "data": {
      "image/png": "[encoded data removed]",
      "text/plain": [
       "plot without title"
      ]
     },
     "metadata": {
      "image/png": {
       "height": 420,
       "width": 420
      }
     },
     "output_type": "display_data"
    }
   ],
   "source": [
    "day_data  %>% \n",
    "    ggplot(aes(x = day_of_week, y = trips)) +\n",
    "        geom_col(fill = \"firebrick1\") +\n",
    "        theme_economist() +\n",
    "        labs(fill=\"\", title = \"Trips with a duration less than 100 minutes\") +\n",
    "        facet_wrap(~ member_casual, ncol = 2)\n"
   ]
  },
  {
   "cell_type": "code",
   "execution_count": 29,
   "metadata": {},
   "outputs": [
    {
     "name": "stderr",
     "output_type": "stream",
     "text": [
      "`summarise()` has grouped output by 'day_of_week'. You can override using the `.groups` argument.\n",
      "\n"
     ]
    },
    {
     "data": {
      "text/html": [
       "<table class=\"dataframe\">\n",
       "<caption>A grouped_df: 14 × 3</caption>\n",
       "<thead>\n",
       "\t<tr><th scope=col>day_of_week</th><th scope=col>member_casual</th><th scope=col>trips</th></tr>\n",
       "\t<tr><th scope=col>&lt;ord&gt;</th><th scope=col>&lt;fct&gt;</th><th scope=col>&lt;int&gt;</th></tr>\n",
       "</thead>\n",
       "<tbody>\n",
       "\t<tr><td>Sat</td><td>member</td><td>321057</td></tr>\n",
       "\t<tr><td>Sat</td><td>casual</td><td>310336</td></tr>\n",
       "\t<tr><td>Fri</td><td>member</td><td>304730</td></tr>\n",
       "\t<tr><td>Wed</td><td>member</td><td>303713</td></tr>\n",
       "\t<tr><td>Thu</td><td>member</td><td>299107</td></tr>\n",
       "\t<tr><td>Tue</td><td>member</td><td>283154</td></tr>\n",
       "\t<tr><td>Mon</td><td>member</td><td>266109</td></tr>\n",
       "\t<tr><td>Sun</td><td>member</td><td>263496</td></tr>\n",
       "\t<tr><td>Sun</td><td>casual</td><td>241148</td></tr>\n",
       "\t<tr><td>Fri</td><td>casual</td><td>195758</td></tr>\n",
       "\t<tr><td>Thu</td><td>casual</td><td>157189</td></tr>\n",
       "\t<tr><td>Wed</td><td>casual</td><td>149909</td></tr>\n",
       "\t<tr><td>Mon</td><td>casual</td><td>141371</td></tr>\n",
       "\t<tr><td>Tue</td><td>casual</td><td>137043</td></tr>\n",
       "</tbody>\n",
       "</table>\n"
      ],
      "text/latex": [
       "A grouped\\_df: 14 × 3\n",
       "\\begin{tabular}{lll}\n",
       " day\\_of\\_week & member\\_casual & trips\\\\\n",
       " <ord> & <fct> & <int>\\\\\n",
       "\\hline\n",
       "\t Sat & member & 321057\\\\\n",
       "\t Sat & casual & 310336\\\\\n",
       "\t Fri & member & 304730\\\\\n",
       "\t Wed & member & 303713\\\\\n",
       "\t Thu & member & 299107\\\\\n",
       "\t Tue & member & 283154\\\\\n",
       "\t Mon & member & 266109\\\\\n",
       "\t Sun & member & 263496\\\\\n",
       "\t Sun & casual & 241148\\\\\n",
       "\t Fri & casual & 195758\\\\\n",
       "\t Thu & casual & 157189\\\\\n",
       "\t Wed & casual & 149909\\\\\n",
       "\t Mon & casual & 141371\\\\\n",
       "\t Tue & casual & 137043\\\\\n",
       "\\end{tabular}\n"
      ],
      "text/markdown": [
       "\n",
       "A grouped_df: 14 × 3\n",
       "\n",
       "| day_of_week &lt;ord&gt; | member_casual &lt;fct&gt; | trips &lt;int&gt; |\n",
       "|---|---|---|\n",
       "| Sat | member | 321057 |\n",
       "| Sat | casual | 310336 |\n",
       "| Fri | member | 304730 |\n",
       "| Wed | member | 303713 |\n",
       "| Thu | member | 299107 |\n",
       "| Tue | member | 283154 |\n",
       "| Mon | member | 266109 |\n",
       "| Sun | member | 263496 |\n",
       "| Sun | casual | 241148 |\n",
       "| Fri | casual | 195758 |\n",
       "| Thu | casual | 157189 |\n",
       "| Wed | casual | 149909 |\n",
       "| Mon | casual | 141371 |\n",
       "| Tue | casual | 137043 |\n",
       "\n"
      ],
      "text/plain": [
       "   day_of_week member_casual trips \n",
       "1  Sat         member        321057\n",
       "2  Sat         casual        310336\n",
       "3  Fri         member        304730\n",
       "4  Wed         member        303713\n",
       "5  Thu         member        299107\n",
       "6  Tue         member        283154\n",
       "7  Mon         member        266109\n",
       "8  Sun         member        263496\n",
       "9  Sun         casual        241148\n",
       "10 Fri         casual        195758\n",
       "11 Thu         casual        157189\n",
       "12 Wed         casual        149909\n",
       "13 Mon         casual        141371\n",
       "14 Tue         casual        137043"
      ]
     },
     "metadata": {},
     "output_type": "display_data"
    }
   ],
   "source": [
    "data %>% \n",
    "    filter(trip_duration_mins < 100) %>% \n",
    "    select(trip_duration_mins, member_casual, started_at) %>% \n",
    "    mutate(day_of_week = wday(started_at, label = TRUE, abbr = TRUE, week_start = 7)) %>% \n",
    "    group_by(day_of_week, member_casual) %>%\n",
    "    summarize(trips = n()) %>% \n",
    "    arrange(desc(trips))"
   ]
  },
  {
   "cell_type": "code",
   "execution_count": 30,
   "metadata": {},
   "outputs": [
    {
     "data": {
      "image/png": "[encoded data removed]",
      "text/plain": [
       "plot without title"
      ]
     },
     "metadata": {
      "image/png": {
       "height": 420,
       "width": 420
      }
     },
     "output_type": "display_data"
    }
   ],
   "source": [
    "day_data  %>% \n",
    "    ggplot(aes(x = day_of_week, y = mean_trip_duration)) +\n",
    "        geom_col(fill = \"firebrick1\") +\n",
    "        theme_economist() +\n",
    "        labs(fill=\"\", title = \"Mean trip duration for trips under 100 minutes\") +\n",
    "        facet_wrap(~ member_casual, ncol = 2)"
   ]
  },
  {
   "cell_type": "code",
   "execution_count": 31,
   "metadata": {},
   "outputs": [
    {
     "data": {
      "image/png": "[encoded data removed]",
      "text/plain": [
       "plot without title"
      ]
     },
     "metadata": {
      "image/png": {
       "height": 420,
       "width": 420
      }
     },
     "output_type": "display_data"
    }
   ],
   "source": [
    "day_data %>%\n",
    "  ggplot( aes(x= day_of_week, y = mean_trip_duration, fill= member_casual)) +\n",
    "    geom_col(color=\"#e9ecef\", alpha=0.4, position = 'identity') +\n",
    "    scale_fill_manual(values=c(\"firebrick1\", \"springgreen\")) +\n",
    "    theme_economist() +\n",
    "    labs(fill=\"\", title = \"Mean trip duration for trips under 100 minutes\")"
   ]
  },
  {
   "cell_type": "code",
   "execution_count": 110,
   "metadata": {},
   "outputs": [
    {
     "data": {
      "text/html": [
       "<table class=\"dataframe\">\n",
       "<caption>A grouped_df: 14 × 4</caption>\n",
       "<thead>\n",
       "\t<tr><th scope=col>day_of_week</th><th scope=col>member_casual</th><th scope=col>trips</th><th scope=col>mean_trip_duration</th></tr>\n",
       "\t<tr><th scope=col>&lt;ord&gt;</th><th scope=col>&lt;fct&gt;</th><th scope=col>&lt;int&gt;</th><th scope=col>&lt;dbl&gt;</th></tr>\n",
       "</thead>\n",
       "<tbody>\n",
       "\t<tr><td>Sat</td><td>member</td><td>321057</td><td>16.36455</td></tr>\n",
       "\t<tr><td>Sat</td><td>casual</td><td>310336</td><td>28.05314</td></tr>\n",
       "\t<tr><td>Fri</td><td>member</td><td>304730</td><td>14.51511</td></tr>\n",
       "\t<tr><td>Wed</td><td>member</td><td>303713</td><td>14.15391</td></tr>\n",
       "\t<tr><td>Thu</td><td>member</td><td>299107</td><td>14.17283</td></tr>\n",
       "\t<tr><td>Tue</td><td>member</td><td>283154</td><td>14.09208</td></tr>\n",
       "\t<tr><td>Mon</td><td>member</td><td>266109</td><td>14.17836</td></tr>\n",
       "\t<tr><td>Sun</td><td>member</td><td>263496</td><td>16.50008</td></tr>\n",
       "\t<tr><td>Sun</td><td>casual</td><td>241148</td><td>29.08646</td></tr>\n",
       "\t<tr><td>Fri</td><td>casual</td><td>195758</td><td>24.95663</td></tr>\n",
       "\t<tr><td>Thu</td><td>casual</td><td>157189</td><td>24.18029</td></tr>\n",
       "\t<tr><td>Wed</td><td>casual</td><td>149909</td><td>23.93579</td></tr>\n",
       "\t<tr><td>Mon</td><td>casual</td><td>141371</td><td>25.93163</td></tr>\n",
       "\t<tr><td>Tue</td><td>casual</td><td>137043</td><td>24.54800</td></tr>\n",
       "</tbody>\n",
       "</table>\n"
      ],
      "text/latex": [
       "A grouped\\_df: 14 × 4\n",
       "\\begin{tabular}{llll}\n",
       " day\\_of\\_week & member\\_casual & trips & mean\\_trip\\_duration\\\\\n",
       " <ord> & <fct> & <int> & <dbl>\\\\\n",
       "\\hline\n",
       "\t Sat & member & 321057 & 16.36455\\\\\n",
       "\t Sat & casual & 310336 & 28.05314\\\\\n",
       "\t Fri & member & 304730 & 14.51511\\\\\n",
       "\t Wed & member & 303713 & 14.15391\\\\\n",
       "\t Thu & member & 299107 & 14.17283\\\\\n",
       "\t Tue & member & 283154 & 14.09208\\\\\n",
       "\t Mon & member & 266109 & 14.17836\\\\\n",
       "\t Sun & member & 263496 & 16.50008\\\\\n",
       "\t Sun & casual & 241148 & 29.08646\\\\\n",
       "\t Fri & casual & 195758 & 24.95663\\\\\n",
       "\t Thu & casual & 157189 & 24.18029\\\\\n",
       "\t Wed & casual & 149909 & 23.93579\\\\\n",
       "\t Mon & casual & 141371 & 25.93163\\\\\n",
       "\t Tue & casual & 137043 & 24.54800\\\\\n",
       "\\end{tabular}\n"
      ],
      "text/markdown": [
       "\n",
       "A grouped_df: 14 × 4\n",
       "\n",
       "| day_of_week &lt;ord&gt; | member_casual &lt;fct&gt; | trips &lt;int&gt; | mean_trip_duration &lt;dbl&gt; |\n",
       "|---|---|---|---|\n",
       "| Sat | member | 321057 | 16.36455 |\n",
       "| Sat | casual | 310336 | 28.05314 |\n",
       "| Fri | member | 304730 | 14.51511 |\n",
       "| Wed | member | 303713 | 14.15391 |\n",
       "| Thu | member | 299107 | 14.17283 |\n",
       "| Tue | member | 283154 | 14.09208 |\n",
       "| Mon | member | 266109 | 14.17836 |\n",
       "| Sun | member | 263496 | 16.50008 |\n",
       "| Sun | casual | 241148 | 29.08646 |\n",
       "| Fri | casual | 195758 | 24.95663 |\n",
       "| Thu | casual | 157189 | 24.18029 |\n",
       "| Wed | casual | 149909 | 23.93579 |\n",
       "| Mon | casual | 141371 | 25.93163 |\n",
       "| Tue | casual | 137043 | 24.54800 |\n",
       "\n"
      ],
      "text/plain": [
       "   day_of_week member_casual trips  mean_trip_duration\n",
       "1  Sat         member        321057 16.36455          \n",
       "2  Sat         casual        310336 28.05314          \n",
       "3  Fri         member        304730 14.51511          \n",
       "4  Wed         member        303713 14.15391          \n",
       "5  Thu         member        299107 14.17283          \n",
       "6  Tue         member        283154 14.09208          \n",
       "7  Mon         member        266109 14.17836          \n",
       "8  Sun         member        263496 16.50008          \n",
       "9  Sun         casual        241148 29.08646          \n",
       "10 Fri         casual        195758 24.95663          \n",
       "11 Thu         casual        157189 24.18029          \n",
       "12 Wed         casual        149909 23.93579          \n",
       "13 Mon         casual        141371 25.93163          \n",
       "14 Tue         casual        137043 24.54800          "
      ]
     },
     "metadata": {},
     "output_type": "display_data"
    }
   ],
   "source": [
    "day_data"
   ]
  },
  {
   "cell_type": "code",
   "execution_count": 52,
   "metadata": {},
   "outputs": [
    {
     "name": "stderr",
     "output_type": "stream",
     "text": [
      "`summarise()` has grouped output by 'member_casual'. You can override using the `.groups` argument.\n",
      "\n"
     ]
    },
    {
     "data": {
      "text/html": [
       "<table class=\"dataframe\">\n",
       "<caption>A grouped_df: 1397 × 4</caption>\n",
       "<thead>\n",
       "\t<tr><th scope=col>member_casual</th><th scope=col>start_station_name</th><th scope=col>trips</th><th scope=col>mean_trip_duration</th></tr>\n",
       "\t<tr><th scope=col>&lt;fct&gt;</th><th scope=col>&lt;fct&gt;</th><th scope=col>&lt;int&gt;</th><th scope=col>&lt;dbl&gt;</th></tr>\n",
       "</thead>\n",
       "<tbody>\n",
       "\t<tr><td>member</td><td>                              </td><td>75414</td><td>12.61437</td></tr>\n",
       "\t<tr><td>casual</td><td>                              </td><td>45875</td><td>17.91057</td></tr>\n",
       "\t<tr><td>casual</td><td><span style=white-space:pre-wrap>Streeter Dr &amp; Grand Ave       </span></td><td>23829</td><td>35.19450</td></tr>\n",
       "\t<tr><td>member</td><td><span style=white-space:pre-wrap>Clark St &amp; Elm St             </span></td><td>20191</td><td>13.34302</td></tr>\n",
       "\t<tr><td>casual</td><td><span style=white-space:pre-wrap>Lake Shore Dr &amp; Monroe St     </span></td><td>18959</td><td>36.30654</td></tr>\n",
       "\t<tr><td>casual</td><td>Millennium Park               </td><td>17437</td><td>38.08596</td></tr>\n",
       "\t<tr><td>member</td><td><span style=white-space:pre-wrap>Broadway &amp; Barry Ave          </span></td><td>15658</td><td>14.69328</td></tr>\n",
       "\t<tr><td>member</td><td><span style=white-space:pre-wrap>Dearborn St &amp; Erie St         </span></td><td>15295</td><td>13.01472</td></tr>\n",
       "\t<tr><td>member</td><td><span style=white-space:pre-wrap>St. Clair St &amp; Erie St        </span></td><td>15239</td><td>14.98476</td></tr>\n",
       "\t<tr><td>member</td><td><span style=white-space:pre-wrap>Wells St &amp; Concord Ln         </span></td><td>15012</td><td>12.92406</td></tr>\n",
       "\t<tr><td>member</td><td>Theater on the Lake           </td><td>14528</td><td>21.67342</td></tr>\n",
       "\t<tr><td>member</td><td><span style=white-space:pre-wrap>Kingsbury St &amp; Kinzie St      </span></td><td>14221</td><td>10.98916</td></tr>\n",
       "\t<tr><td>casual</td><td>Theater on the Lake           </td><td>14199</td><td>29.35356</td></tr>\n",
       "\t<tr><td>member</td><td><span style=white-space:pre-wrap>Wells St &amp; Huron St           </span></td><td>14038</td><td>11.03372</td></tr>\n",
       "\t<tr><td>member</td><td><span style=white-space:pre-wrap>Wells St &amp; Elm St             </span></td><td>13981</td><td>11.75625</td></tr>\n",
       "\t<tr><td>member</td><td><span style=white-space:pre-wrap>Clark St &amp; Armitage Ave       </span></td><td>13837</td><td>14.11283</td></tr>\n",
       "\t<tr><td>member</td><td><span style=white-space:pre-wrap>Lake Shore Dr &amp; North Blvd    </span></td><td>13566</td><td>19.98776</td></tr>\n",
       "\t<tr><td>member</td><td><span style=white-space:pre-wrap>Desplaines St &amp; Kinzie St     </span></td><td>13562</td><td>11.15512</td></tr>\n",
       "\t<tr><td>casual</td><td><span style=white-space:pre-wrap>Michigan Ave &amp; Oak St         </span></td><td>12603</td><td>34.46982</td></tr>\n",
       "\t<tr><td>member</td><td>Lake Shore Dr &amp; Wellington Ave</td><td>12529</td><td>19.25319</td></tr>\n",
       "\t<tr><td>member</td><td><span style=white-space:pre-wrap>Columbus Dr &amp; Randolph St     </span></td><td>12434</td><td>12.95965</td></tr>\n",
       "\t<tr><td>casual</td><td><span style=white-space:pre-wrap>Lake Shore Dr &amp; North Blvd    </span></td><td>12361</td><td>30.08483</td></tr>\n",
       "\t<tr><td>casual</td><td><span style=white-space:pre-wrap>Indiana Ave &amp; Roosevelt Rd    </span></td><td>12304</td><td>34.49827</td></tr>\n",
       "\t<tr><td>member</td><td><span style=white-space:pre-wrap>Larrabee St &amp; Webster Ave     </span></td><td>12272</td><td>14.12370</td></tr>\n",
       "\t<tr><td>member</td><td><span style=white-space:pre-wrap>Clark St &amp; Schiller St        </span></td><td>12158</td><td>13.35959</td></tr>\n",
       "\t<tr><td>member</td><td><span style=white-space:pre-wrap>Clark St &amp; Lincoln Ave        </span></td><td>12118</td><td>14.54031</td></tr>\n",
       "\t<tr><td>member</td><td><span style=white-space:pre-wrap>Broadway &amp; Cornelia Ave       </span></td><td>12029</td><td>13.98125</td></tr>\n",
       "\t<tr><td>member</td><td><span style=white-space:pre-wrap>Dearborn Pkwy &amp; Delaware Pl   </span></td><td>11813</td><td>14.84838</td></tr>\n",
       "\t<tr><td>member</td><td><span style=white-space:pre-wrap>Wabash Ave &amp; Grand Ave        </span></td><td>11661</td><td>14.38178</td></tr>\n",
       "\t<tr><td>member</td><td><span style=white-space:pre-wrap>Wabash Ave &amp; Roosevelt Rd     </span></td><td>11587</td><td>13.86977</td></tr>\n",
       "\t<tr><td>...</td><td>...</td><td>...</td><td>...</td></tr>\n",
       "\t<tr><td>casual</td><td>hubbard_test_lws                              </td><td>3</td><td> 3.966667</td></tr>\n",
       "\t<tr><td>casual</td><td><span style=white-space:pre-wrap>N Paulina St &amp; Lincoln Ave                    </span></td><td>3</td><td>12.800000</td></tr>\n",
       "\t<tr><td>member</td><td><span style=white-space:pre-wrap>Damen Ave &amp; Wabansia Ave                      </span></td><td>3</td><td>12.633333</td></tr>\n",
       "\t<tr><td>member</td><td><span style=white-space:pre-wrap>Eggleston Ave &amp; 69th St (*)                   </span></td><td>3</td><td>23.666667</td></tr>\n",
       "\t<tr><td>member</td><td>Halsted &amp; 63rd - Kennedy-King Vaccination Site</td><td>3</td><td>29.133333</td></tr>\n",
       "\t<tr><td>member</td><td><span style=white-space:pre-wrap>Marshfield Ave &amp; 59th St                      </span></td><td>3</td><td>22.333333</td></tr>\n",
       "\t<tr><td>member</td><td><span style=white-space:pre-wrap>N Carpenter St &amp; W Lake St                    </span></td><td>3</td><td> 1.833333</td></tr>\n",
       "\t<tr><td>member</td><td><span style=white-space:pre-wrap>Racine Ave &amp; 61st St                          </span></td><td>3</td><td>23.233333</td></tr>\n",
       "\t<tr><td>member</td><td><span style=white-space:pre-wrap>W Washington Blvd &amp; N Peoria St               </span></td><td>3</td><td>18.800000</td></tr>\n",
       "\t<tr><td>casual</td><td><span style=white-space:pre-wrap>N Sheffield Ave &amp; W Wellington Ave            </span></td><td>2</td><td> 5.550000</td></tr>\n",
       "\t<tr><td>casual</td><td><span style=white-space:pre-wrap>S Wentworth Ave &amp; W 111th St                  </span></td><td>2</td><td> 2.950000</td></tr>\n",
       "\t<tr><td>casual</td><td><span style=white-space:pre-wrap>W Washington Blvd &amp; N Peoria St               </span></td><td>2</td><td> 3.500000</td></tr>\n",
       "\t<tr><td>member</td><td><span style=white-space:pre-wrap>Ada St &amp; 113th St                             </span></td><td>2</td><td>25.150000</td></tr>\n",
       "\t<tr><td>member</td><td><span style=white-space:pre-wrap>Eberhart Ave &amp; 131st St                       </span></td><td>2</td><td>61.800000</td></tr>\n",
       "\t<tr><td>member</td><td><span style=white-space:pre-wrap>Lawndale Ave &amp; 111th St                       </span></td><td>2</td><td>20.550000</td></tr>\n",
       "\t<tr><td>casual</td><td><span style=white-space:pre-wrap>Commercial Ave &amp; 100th St                     </span></td><td>1</td><td> 3.200000</td></tr>\n",
       "\t<tr><td>casual</td><td><span style=white-space:pre-wrap>N Carpenter St &amp; W Lake St                    </span></td><td>1</td><td> 9.700000</td></tr>\n",
       "\t<tr><td>casual</td><td><span style=white-space:pre-wrap>N Clark St &amp; W Elm St                         </span></td><td>1</td><td>11.400000</td></tr>\n",
       "\t<tr><td>casual</td><td><span style=white-space:pre-wrap>S Michigan Ave &amp; E 118th St                   </span></td><td>1</td><td>82.000000</td></tr>\n",
       "\t<tr><td>member</td><td><span style=white-space:pre-wrap>Ashland Ave &amp; 73rd St                         </span></td><td>1</td><td>39.100000</td></tr>\n",
       "\t<tr><td>member</td><td><span style=white-space:pre-wrap>Avenue O &amp; 134th St                           </span></td><td>1</td><td>21.600000</td></tr>\n",
       "\t<tr><td>member</td><td>Chicago State University                      </td><td>1</td><td>19.600000</td></tr>\n",
       "\t<tr><td>member</td><td><span style=white-space:pre-wrap>Hale Ave &amp; 107th St                           </span></td><td>1</td><td>15.900000</td></tr>\n",
       "\t<tr><td>member</td><td><span style=white-space:pre-wrap>Halsted St &amp; 104th St                         </span></td><td>1</td><td>10.500000</td></tr>\n",
       "\t<tr><td>member</td><td><span style=white-space:pre-wrap>N Damen Ave &amp; W Wabansia St                   </span></td><td>1</td><td>19.600000</td></tr>\n",
       "\t<tr><td>member</td><td><span style=white-space:pre-wrap>N Hampden Ct &amp; W Diversey Ave                 </span></td><td>1</td><td>16.100000</td></tr>\n",
       "\t<tr><td>member</td><td><span style=white-space:pre-wrap>N Paulina St &amp; Lincoln Ave                    </span></td><td>1</td><td> 2.900000</td></tr>\n",
       "\t<tr><td>member</td><td><span style=white-space:pre-wrap>Stewart Ave &amp; 63rd St (*)                     </span></td><td>1</td><td>69.900000</td></tr>\n",
       "\t<tr><td>member</td><td><span style=white-space:pre-wrap>Torrence Ave &amp; 126th Pl                       </span></td><td>1</td><td>50.600000</td></tr>\n",
       "\t<tr><td>member</td><td><span style=white-space:pre-wrap>Western Ave &amp; 104th St                        </span></td><td>1</td><td>11.500000</td></tr>\n",
       "</tbody>\n",
       "</table>\n"
      ],
      "text/latex": [
       "A grouped\\_df: 1397 × 4\n",
       "\\begin{tabular}{llll}\n",
       " member\\_casual & start\\_station\\_name & trips & mean\\_trip\\_duration\\\\\n",
       " <fct> & <fct> & <int> & <dbl>\\\\\n",
       "\\hline\n",
       "\t member &                                & 75414 & 12.61437\\\\\n",
       "\t casual &                                & 45875 & 17.91057\\\\\n",
       "\t casual & Streeter Dr \\& Grand Ave        & 23829 & 35.19450\\\\\n",
       "\t member & Clark St \\& Elm St              & 20191 & 13.34302\\\\\n",
       "\t casual & Lake Shore Dr \\& Monroe St      & 18959 & 36.30654\\\\\n",
       "\t casual & Millennium Park                & 17437 & 38.08596\\\\\n",
       "\t member & Broadway \\& Barry Ave           & 15658 & 14.69328\\\\\n",
       "\t member & Dearborn St \\& Erie St          & 15295 & 13.01472\\\\\n",
       "\t member & St. Clair St \\& Erie St         & 15239 & 14.98476\\\\\n",
       "\t member & Wells St \\& Concord Ln          & 15012 & 12.92406\\\\\n",
       "\t member & Theater on the Lake            & 14528 & 21.67342\\\\\n",
       "\t member & Kingsbury St \\& Kinzie St       & 14221 & 10.98916\\\\\n",
       "\t casual & Theater on the Lake            & 14199 & 29.35356\\\\\n",
       "\t member & Wells St \\& Huron St            & 14038 & 11.03372\\\\\n",
       "\t member & Wells St \\& Elm St              & 13981 & 11.75625\\\\\n",
       "\t member & Clark St \\& Armitage Ave        & 13837 & 14.11283\\\\\n",
       "\t member & Lake Shore Dr \\& North Blvd     & 13566 & 19.98776\\\\\n",
       "\t member & Desplaines St \\& Kinzie St      & 13562 & 11.15512\\\\\n",
       "\t casual & Michigan Ave \\& Oak St          & 12603 & 34.46982\\\\\n",
       "\t member & Lake Shore Dr \\& Wellington Ave & 12529 & 19.25319\\\\\n",
       "\t member & Columbus Dr \\& Randolph St      & 12434 & 12.95965\\\\\n",
       "\t casual & Lake Shore Dr \\& North Blvd     & 12361 & 30.08483\\\\\n",
       "\t casual & Indiana Ave \\& Roosevelt Rd     & 12304 & 34.49827\\\\\n",
       "\t member & Larrabee St \\& Webster Ave      & 12272 & 14.12370\\\\\n",
       "\t member & Clark St \\& Schiller St         & 12158 & 13.35959\\\\\n",
       "\t member & Clark St \\& Lincoln Ave         & 12118 & 14.54031\\\\\n",
       "\t member & Broadway \\& Cornelia Ave        & 12029 & 13.98125\\\\\n",
       "\t member & Dearborn Pkwy \\& Delaware Pl    & 11813 & 14.84838\\\\\n",
       "\t member & Wabash Ave \\& Grand Ave         & 11661 & 14.38178\\\\\n",
       "\t member & Wabash Ave \\& Roosevelt Rd      & 11587 & 13.86977\\\\\n",
       "\t ... & ... & ... & ...\\\\\n",
       "\t casual & hubbard\\_test\\_lws                               & 3 &  3.966667\\\\\n",
       "\t casual & N Paulina St \\& Lincoln Ave                     & 3 & 12.800000\\\\\n",
       "\t member & Damen Ave \\& Wabansia Ave                       & 3 & 12.633333\\\\\n",
       "\t member & Eggleston Ave \\& 69th St (*)                    & 3 & 23.666667\\\\\n",
       "\t member & Halsted \\& 63rd - Kennedy-King Vaccination Site & 3 & 29.133333\\\\\n",
       "\t member & Marshfield Ave \\& 59th St                       & 3 & 22.333333\\\\\n",
       "\t member & N Carpenter St \\& W Lake St                     & 3 &  1.833333\\\\\n",
       "\t member & Racine Ave \\& 61st St                           & 3 & 23.233333\\\\\n",
       "\t member & W Washington Blvd \\& N Peoria St                & 3 & 18.800000\\\\\n",
       "\t casual & N Sheffield Ave \\& W Wellington Ave             & 2 &  5.550000\\\\\n",
       "\t casual & S Wentworth Ave \\& W 111th St                   & 2 &  2.950000\\\\\n",
       "\t casual & W Washington Blvd \\& N Peoria St                & 2 &  3.500000\\\\\n",
       "\t member & Ada St \\& 113th St                              & 2 & 25.150000\\\\\n",
       "\t member & Eberhart Ave \\& 131st St                        & 2 & 61.800000\\\\\n",
       "\t member & Lawndale Ave \\& 111th St                        & 2 & 20.550000\\\\\n",
       "\t casual & Commercial Ave \\& 100th St                      & 1 &  3.200000\\\\\n",
       "\t casual & N Carpenter St \\& W Lake St                     & 1 &  9.700000\\\\\n",
       "\t casual & N Clark St \\& W Elm St                          & 1 & 11.400000\\\\\n",
       "\t casual & S Michigan Ave \\& E 118th St                    & 1 & 82.000000\\\\\n",
       "\t member & Ashland Ave \\& 73rd St                          & 1 & 39.100000\\\\\n",
       "\t member & Avenue O \\& 134th St                            & 1 & 21.600000\\\\\n",
       "\t member & Chicago State University                       & 1 & 19.600000\\\\\n",
       "\t member & Hale Ave \\& 107th St                            & 1 & 15.900000\\\\\n",
       "\t member & Halsted St \\& 104th St                          & 1 & 10.500000\\\\\n",
       "\t member & N Damen Ave \\& W Wabansia St                    & 1 & 19.600000\\\\\n",
       "\t member & N Hampden Ct \\& W Diversey Ave                  & 1 & 16.100000\\\\\n",
       "\t member & N Paulina St \\& Lincoln Ave                     & 1 &  2.900000\\\\\n",
       "\t member & Stewart Ave \\& 63rd St (*)                      & 1 & 69.900000\\\\\n",
       "\t member & Torrence Ave \\& 126th Pl                        & 1 & 50.600000\\\\\n",
       "\t member & Western Ave \\& 104th St                         & 1 & 11.500000\\\\\n",
       "\\end{tabular}\n"
      ],
      "text/markdown": [
       "\n",
       "A grouped_df: 1397 × 4\n",
       "\n",
       "| member_casual &lt;fct&gt; | start_station_name &lt;fct&gt; | trips &lt;int&gt; | mean_trip_duration &lt;dbl&gt; |\n",
       "|---|---|---|---|\n",
       "| member | <!----> | 75414 | 12.61437 |\n",
       "| casual | <!----> | 45875 | 17.91057 |\n",
       "| casual | Streeter Dr &amp; Grand Ave        | 23829 | 35.19450 |\n",
       "| member | Clark St &amp; Elm St              | 20191 | 13.34302 |\n",
       "| casual | Lake Shore Dr &amp; Monroe St      | 18959 | 36.30654 |\n",
       "| casual | Millennium Park                | 17437 | 38.08596 |\n",
       "| member | Broadway &amp; Barry Ave           | 15658 | 14.69328 |\n",
       "| member | Dearborn St &amp; Erie St          | 15295 | 13.01472 |\n",
       "| member | St. Clair St &amp; Erie St         | 15239 | 14.98476 |\n",
       "| member | Wells St &amp; Concord Ln          | 15012 | 12.92406 |\n",
       "| member | Theater on the Lake            | 14528 | 21.67342 |\n",
       "| member | Kingsbury St &amp; Kinzie St       | 14221 | 10.98916 |\n",
       "| casual | Theater on the Lake            | 14199 | 29.35356 |\n",
       "| member | Wells St &amp; Huron St            | 14038 | 11.03372 |\n",
       "| member | Wells St &amp; Elm St              | 13981 | 11.75625 |\n",
       "| member | Clark St &amp; Armitage Ave        | 13837 | 14.11283 |\n",
       "| member | Lake Shore Dr &amp; North Blvd     | 13566 | 19.98776 |\n",
       "| member | Desplaines St &amp; Kinzie St      | 13562 | 11.15512 |\n",
       "| casual | Michigan Ave &amp; Oak St          | 12603 | 34.46982 |\n",
       "| member | Lake Shore Dr &amp; Wellington Ave | 12529 | 19.25319 |\n",
       "| member | Columbus Dr &amp; Randolph St      | 12434 | 12.95965 |\n",
       "| casual | Lake Shore Dr &amp; North Blvd     | 12361 | 30.08483 |\n",
       "| casual | Indiana Ave &amp; Roosevelt Rd     | 12304 | 34.49827 |\n",
       "| member | Larrabee St &amp; Webster Ave      | 12272 | 14.12370 |\n",
       "| member | Clark St &amp; Schiller St         | 12158 | 13.35959 |\n",
       "| member | Clark St &amp; Lincoln Ave         | 12118 | 14.54031 |\n",
       "| member | Broadway &amp; Cornelia Ave        | 12029 | 13.98125 |\n",
       "| member | Dearborn Pkwy &amp; Delaware Pl    | 11813 | 14.84838 |\n",
       "| member | Wabash Ave &amp; Grand Ave         | 11661 | 14.38178 |\n",
       "| member | Wabash Ave &amp; Roosevelt Rd      | 11587 | 13.86977 |\n",
       "| ... | ... | ... | ... |\n",
       "| casual | hubbard_test_lws                               | 3 |  3.966667 |\n",
       "| casual | N Paulina St &amp; Lincoln Ave                     | 3 | 12.800000 |\n",
       "| member | Damen Ave &amp; Wabansia Ave                       | 3 | 12.633333 |\n",
       "| member | Eggleston Ave &amp; 69th St (*)                    | 3 | 23.666667 |\n",
       "| member | Halsted &amp; 63rd - Kennedy-King Vaccination Site | 3 | 29.133333 |\n",
       "| member | Marshfield Ave &amp; 59th St                       | 3 | 22.333333 |\n",
       "| member | N Carpenter St &amp; W Lake St                     | 3 |  1.833333 |\n",
       "| member | Racine Ave &amp; 61st St                           | 3 | 23.233333 |\n",
       "| member | W Washington Blvd &amp; N Peoria St                | 3 | 18.800000 |\n",
       "| casual | N Sheffield Ave &amp; W Wellington Ave             | 2 |  5.550000 |\n",
       "| casual | S Wentworth Ave &amp; W 111th St                   | 2 |  2.950000 |\n",
       "| casual | W Washington Blvd &amp; N Peoria St                | 2 |  3.500000 |\n",
       "| member | Ada St &amp; 113th St                              | 2 | 25.150000 |\n",
       "| member | Eberhart Ave &amp; 131st St                        | 2 | 61.800000 |\n",
       "| member | Lawndale Ave &amp; 111th St                        | 2 | 20.550000 |\n",
       "| casual | Commercial Ave &amp; 100th St                      | 1 |  3.200000 |\n",
       "| casual | N Carpenter St &amp; W Lake St                     | 1 |  9.700000 |\n",
       "| casual | N Clark St &amp; W Elm St                          | 1 | 11.400000 |\n",
       "| casual | S Michigan Ave &amp; E 118th St                    | 1 | 82.000000 |\n",
       "| member | Ashland Ave &amp; 73rd St                          | 1 | 39.100000 |\n",
       "| member | Avenue O &amp; 134th St                            | 1 | 21.600000 |\n",
       "| member | Chicago State University                       | 1 | 19.600000 |\n",
       "| member | Hale Ave &amp; 107th St                            | 1 | 15.900000 |\n",
       "| member | Halsted St &amp; 104th St                          | 1 | 10.500000 |\n",
       "| member | N Damen Ave &amp; W Wabansia St                    | 1 | 19.600000 |\n",
       "| member | N Hampden Ct &amp; W Diversey Ave                  | 1 | 16.100000 |\n",
       "| member | N Paulina St &amp; Lincoln Ave                     | 1 |  2.900000 |\n",
       "| member | Stewart Ave &amp; 63rd St (*)                      | 1 | 69.900000 |\n",
       "| member | Torrence Ave &amp; 126th Pl                        | 1 | 50.600000 |\n",
       "| member | Western Ave &amp; 104th St                         | 1 | 11.500000 |\n",
       "\n"
      ],
      "text/plain": [
       "     member_casual start_station_name                             trips\n",
       "1    member                                                       75414\n",
       "2    casual                                                       45875\n",
       "3    casual        Streeter Dr & Grand Ave                        23829\n",
       "4    member        Clark St & Elm St                              20191\n",
       "5    casual        Lake Shore Dr & Monroe St                      18959\n",
       "6    casual        Millennium Park                                17437\n",
       "7    member        Broadway & Barry Ave                           15658\n",
       "8    member        Dearborn St & Erie St                          15295\n",
       "9    member        St. Clair St & Erie St                         15239\n",
       "10   member        Wells St & Concord Ln                          15012\n",
       "11   member        Theater on the Lake                            14528\n",
       "12   member        Kingsbury St & Kinzie St                       14221\n",
       "13   casual        Theater on the Lake                            14199\n",
       "14   member        Wells St & Huron St                            14038\n",
       "15   member        Wells St & Elm St                              13981\n",
       "16   member        Clark St & Armitage Ave                        13837\n",
       "17   member        Lake Shore Dr & North Blvd                     13566\n",
       "18   member        Desplaines St & Kinzie St                      13562\n",
       "19   casual        Michigan Ave & Oak St                          12603\n",
       "20   member        Lake Shore Dr & Wellington Ave                 12529\n",
       "21   member        Columbus Dr & Randolph St                      12434\n",
       "22   casual        Lake Shore Dr & North Blvd                     12361\n",
       "23   casual        Indiana Ave & Roosevelt Rd                     12304\n",
       "24   member        Larrabee St & Webster Ave                      12272\n",
       "25   member        Clark St & Schiller St                         12158\n",
       "26   member        Clark St & Lincoln Ave                         12118\n",
       "27   member        Broadway & Cornelia Ave                        12029\n",
       "28   member        Dearborn Pkwy & Delaware Pl                    11813\n",
       "29   member        Wabash Ave & Grand Ave                         11661\n",
       "30   member        Wabash Ave & Roosevelt Rd                      11587\n",
       "...  ...           ...                                            ...  \n",
       "1368 casual        hubbard_test_lws                               3    \n",
       "1369 casual        N Paulina St & Lincoln Ave                     3    \n",
       "1370 member        Damen Ave & Wabansia Ave                       3    \n",
       "1371 member        Eggleston Ave & 69th St (*)                    3    \n",
       "1372 member        Halsted & 63rd - Kennedy-King Vaccination Site 3    \n",
       "1373 member        Marshfield Ave & 59th St                       3    \n",
       "1374 member        N Carpenter St & W Lake St                     3    \n",
       "1375 member        Racine Ave & 61st St                           3    \n",
       "1376 member        W Washington Blvd & N Peoria St                3    \n",
       "1377 casual        N Sheffield Ave & W Wellington Ave             2    \n",
       "1378 casual        S Wentworth Ave & W 111th St                   2    \n",
       "1379 casual        W Washington Blvd & N Peoria St                2    \n",
       "1380 member        Ada St & 113th St                              2    \n",
       "1381 member        Eberhart Ave & 131st St                        2    \n",
       "1382 member        Lawndale Ave & 111th St                        2    \n",
       "1383 casual        Commercial Ave & 100th St                      1    \n",
       "1384 casual        N Carpenter St & W Lake St                     1    \n",
       "1385 casual        N Clark St & W Elm St                          1    \n",
       "1386 casual        S Michigan Ave & E 118th St                    1    \n",
       "1387 member        Ashland Ave & 73rd St                          1    \n",
       "1388 member        Avenue O & 134th St                            1    \n",
       "1389 member        Chicago State University                       1    \n",
       "1390 member        Hale Ave & 107th St                            1    \n",
       "1391 member        Halsted St & 104th St                          1    \n",
       "1392 member        N Damen Ave & W Wabansia St                    1    \n",
       "1393 member        N Hampden Ct & W Diversey Ave                  1    \n",
       "1394 member        N Paulina St & Lincoln Ave                     1    \n",
       "1395 member        Stewart Ave & 63rd St (*)                      1    \n",
       "1396 member        Torrence Ave & 126th Pl                        1    \n",
       "1397 member        Western Ave & 104th St                         1    \n",
       "     mean_trip_duration\n",
       "1    12.61437          \n",
       "2    17.91057          \n",
       "3    35.19450          \n",
       "4    13.34302          \n",
       "5    36.30654          \n",
       "6    38.08596          \n",
       "7    14.69328          \n",
       "8    13.01472          \n",
       "9    14.98476          \n",
       "10   12.92406          \n",
       "11   21.67342          \n",
       "12   10.98916          \n",
       "13   29.35356          \n",
       "14   11.03372          \n",
       "15   11.75625          \n",
       "16   14.11283          \n",
       "17   19.98776          \n",
       "18   11.15512          \n",
       "19   34.46982          \n",
       "20   19.25319          \n",
       "21   12.95965          \n",
       "22   30.08483          \n",
       "23   34.49827          \n",
       "24   14.12370          \n",
       "25   13.35959          \n",
       "26   14.54031          \n",
       "27   13.98125          \n",
       "28   14.84838          \n",
       "29   14.38178          \n",
       "30   13.86977          \n",
       "...  ...               \n",
       "1368  3.966667         \n",
       "1369 12.800000         \n",
       "1370 12.633333         \n",
       "1371 23.666667         \n",
       "1372 29.133333         \n",
       "1373 22.333333         \n",
       "1374  1.833333         \n",
       "1375 23.233333         \n",
       "1376 18.800000         \n",
       "1377  5.550000         \n",
       "1378  2.950000         \n",
       "1379  3.500000         \n",
       "1380 25.150000         \n",
       "1381 61.800000         \n",
       "1382 20.550000         \n",
       "1383  3.200000         \n",
       "1384  9.700000         \n",
       "1385 11.400000         \n",
       "1386 82.000000         \n",
       "1387 39.100000         \n",
       "1388 21.600000         \n",
       "1389 19.600000         \n",
       "1390 15.900000         \n",
       "1391 10.500000         \n",
       "1392 19.600000         \n",
       "1393 16.100000         \n",
       "1394  2.900000         \n",
       "1395 69.900000         \n",
       "1396 50.600000         \n",
       "1397 11.500000         "
      ]
     },
     "metadata": {},
     "output_type": "display_data"
    }
   ],
   "source": [
    "data %>% filter(trip_duration_mins < 100) %>% \n",
    "    group_by(member_casual, start_station_name) %>% \n",
    "    select(member_casual, start_station_name, end_station_name, trip_duration_mins) %>% \n",
    "    summarize(trips = n(),\n",
    "             mean_trip_duration = mean(trip_duration_mins)) %>% \n",
    "    arrange(desc(trips))\n",
    "    "
   ]
  },
  {
   "cell_type": "code",
   "execution_count": null,
   "metadata": {},
   "outputs": [],
   "source": []
  },
  {
   "cell_type": "code",
   "execution_count": null,
   "metadata": {},
   "outputs": [],
   "source": []
  },
  {
   "cell_type": "code",
   "execution_count": null,
   "metadata": {},
   "outputs": [],
   "source": []
  },
  {
   "cell_type": "code",
   "execution_count": null,
   "metadata": {},
   "outputs": [],
   "source": []
  },
  {
   "cell_type": "code",
   "execution_count": null,
   "metadata": {},
   "outputs": [],
   "source": []
  },
  {
   "cell_type": "code",
   "execution_count": null,
   "metadata": {},
   "outputs": [],
   "source": []
  },
  {
   "cell_type": "code",
   "execution_count": null,
   "metadata": {},
   "outputs": [],
   "source": []
  },
  {
   "cell_type": "code",
   "execution_count": null,
   "metadata": {},
   "outputs": [],
   "source": []
  },
  {
   "cell_type": "code",
   "execution_count": null,
   "metadata": {},
   "outputs": [],
   "source": []
  },
  {
   "cell_type": "code",
   "execution_count": null,
   "metadata": {},
   "outputs": [],
   "source": []
  },
  {
   "cell_type": "code",
   "execution_count": null,
   "metadata": {},
   "outputs": [],
   "source": []
  },
  {
   "cell_type": "code",
   "execution_count": null,
   "metadata": {},
   "outputs": [],
   "source": []
  },
  {
   "cell_type": "code",
   "execution_count": null,
   "metadata": {},
   "outputs": [],
   "source": []
  },
  {
   "cell_type": "code",
   "execution_count": null,
   "metadata": {},
   "outputs": [],
   "source": []
  },
  {
   "cell_type": "code",
   "execution_count": null,
   "metadata": {},
   "outputs": [],
   "source": []
  },
  {
   "cell_type": "code",
   "execution_count": null,
   "metadata": {},
   "outputs": [],
   "source": []
  }
 ],
 "metadata": {
  "kernelspec": {
   "display_name": "R",
   "language": "R",
   "name": "ir"
  },
  "language_info": {
   "codemirror_mode": "r",
   "file_extension": ".r",
   "mimetype": "text/x-r-source",
   "name": "R",
   "pygments_lexer": "r",
   "version": "3.6.1"
  }
 },
 "nbformat": 4,
 "nbformat_minor": 5
}
